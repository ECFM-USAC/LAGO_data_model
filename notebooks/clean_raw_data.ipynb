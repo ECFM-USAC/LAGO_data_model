{
 "cells": [
  {
   "cell_type": "code",
   "execution_count": 1,
   "id": "4eb012f0-b7cd-433c-ac3e-69756bb58e6f",
   "metadata": {},
   "outputs": [],
   "source": [
    "import numpy as np\n",
    "import pandas as pd\n",
    "import seaborn as sns\n",
    "from tqdm import tqdm"
   ]
  },
  {
   "cell_type": "code",
   "execution_count": 2,
   "id": "a89b9eb4-fb92-44aa-8f70-b9185f2554fb",
   "metadata": {},
   "outputs": [],
   "source": [
    "def process_file(file_path):\n",
    "    data = []\n",
    "    current_tbp = None\n",
    "    current_readings = []\n",
    "\n",
    "    with open(file_path, 'r') as file:\n",
    "        for line in tqdm(file, desc=\"Processing file\"):\n",
    "            line = line.strip()\n",
    "            if line.startswith(\"TBP:\"):\n",
    "                # Save the previous TBP section\n",
    "                if current_tbp is not None:\n",
    "                    data.append((current_tbp, current_readings))\n",
    "                # Initialize new TBP section\n",
    "                current_tbp = int(line.split(\":\")[1])\n",
    "                current_readings = []\n",
    "            else:\n",
    "                # Collect readings for the current TBP\n",
    "                if current_tbp is not None:\n",
    "                    current_readings.append(float(line))\n",
    "\n",
    "    # Capture the last section\n",
    "    if current_tbp is not None:\n",
    "        data.append((current_tbp, current_readings))\n",
    "\n",
    "    return data\n"
   ]
  },
  {
   "cell_type": "code",
   "execution_count": 3,
   "id": "a2112a22-1f0f-43c6-b535-62d9c87a4124",
   "metadata": {},
   "outputs": [
    {
     "name": "stderr",
     "output_type": "stream",
     "text": [
      "Processing file: 443271328it [02:11, 3370330.02it/s]\n"
     ]
    }
   ],
   "source": [
    "file_name = '20210518_232318'\n",
    "file_path = f'../data/{file_name}.lag'\n",
    "data = process_file(file_path)"
   ]
  },
  {
   "cell_type": "code",
   "execution_count": 4,
   "id": "e49fa37a-7120-4fd1-8331-7b2b0e400e0b",
   "metadata": {},
   "outputs": [],
   "source": [
    "df = pd.DataFrame(data, columns=[\"TBP\", \"readings\"])\n",
    "\n",
    "    # Save to Parquet (with compression for better storage efficiency)\n",
    "df.to_parquet(f\"../data/{file_name}.parquet\", compression=\"snappy\")"
   ]
  },
  {
   "cell_type": "code",
   "execution_count": null,
   "id": "4656796c-4e82-44ff-baee-39fa24689fdb",
   "metadata": {},
   "outputs": [],
   "source": []
  }
 ],
 "metadata": {
  "kernelspec": {
   "display_name": "Python 3 (ipykernel)",
   "language": "python",
   "name": "python3"
  },
  "language_info": {
   "codemirror_mode": {
    "name": "ipython",
    "version": 3
   },
   "file_extension": ".py",
   "mimetype": "text/x-python",
   "name": "python",
   "nbconvert_exporter": "python",
   "pygments_lexer": "ipython3",
   "version": "3.12.11"
  }
 },
 "nbformat": 4,
 "nbformat_minor": 5
}
