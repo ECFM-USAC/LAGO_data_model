{
 "cells": [
  {
   "cell_type": "code",
   "execution_count": 1,
   "id": "9f2d0c3f-e308-4a48-b906-dbea42582198",
   "metadata": {},
   "outputs": [],
   "source": [
    "import pandas as pd"
   ]
  },
  {
   "cell_type": "code",
   "execution_count": 2,
   "id": "34b9ee48-49ab-4217-8cee-4c48b34b8681",
   "metadata": {},
   "outputs": [],
   "source": [
    "data = pd.read_parquet(\"instrument_readings.parquet\")"
   ]
  },
  {
   "cell_type": "code",
   "execution_count": 3,
   "id": "0f5dbe2a-6b98-4bce-89b3-4053941ae09b",
   "metadata": {},
   "outputs": [
    {
     "data": {
      "text/html": [
       "<div>\n",
       "<style scoped>\n",
       "    .dataframe tbody tr th:only-of-type {\n",
       "        vertical-align: middle;\n",
       "    }\n",
       "\n",
       "    .dataframe tbody tr th {\n",
       "        vertical-align: top;\n",
       "    }\n",
       "\n",
       "    .dataframe thead th {\n",
       "        text-align: right;\n",
       "    }\n",
       "</style>\n",
       "<table border=\"1\" class=\"dataframe\">\n",
       "  <thead>\n",
       "    <tr style=\"text-align: right;\">\n",
       "      <th></th>\n",
       "      <th>TBP</th>\n",
       "      <th>readings</th>\n",
       "    </tr>\n",
       "  </thead>\n",
       "  <tbody>\n",
       "    <tr>\n",
       "      <th>0</th>\n",
       "      <td>51491</td>\n",
       "      <td>[198, 197, 197, 196, 197, 196, 197, 192, 176, ...</td>\n",
       "    </tr>\n",
       "    <tr>\n",
       "      <th>1</th>\n",
       "      <td>168153</td>\n",
       "      <td>[195, 194, 194, 194, 194, 194, 192, 185, 172, ...</td>\n",
       "    </tr>\n",
       "    <tr>\n",
       "      <th>2</th>\n",
       "      <td>2613</td>\n",
       "      <td>[197, 197, 198, 196, 196, 194, 194, 183, 165, ...</td>\n",
       "    </tr>\n",
       "    <tr>\n",
       "      <th>3</th>\n",
       "      <td>111025</td>\n",
       "      <td>[195, 194, 194, 192, 194, 190, 185, 173, 162, ...</td>\n",
       "    </tr>\n",
       "    <tr>\n",
       "      <th>4</th>\n",
       "      <td>10736</td>\n",
       "      <td>[197, 196, 197, 196, 197, 196, 193, 181, 164, ...</td>\n",
       "    </tr>\n",
       "    <tr>\n",
       "      <th>...</th>\n",
       "      <td>...</td>\n",
       "      <td>...</td>\n",
       "    </tr>\n",
       "    <tr>\n",
       "      <th>88792</th>\n",
       "      <td>84411</td>\n",
       "      <td>[204, 203, 205, 203, 205, 203, 203, 193, 177, ...</td>\n",
       "    </tr>\n",
       "    <tr>\n",
       "      <th>88793</th>\n",
       "      <td>4188</td>\n",
       "      <td>[203, 204, 204, 203, 204, 202, 195, 167, 129, ...</td>\n",
       "    </tr>\n",
       "    <tr>\n",
       "      <th>88794</th>\n",
       "      <td>456674</td>\n",
       "      <td>[208, 207, 207, 207, 207, 206, 198, 175, 146, ...</td>\n",
       "    </tr>\n",
       "    <tr>\n",
       "      <th>88795</th>\n",
       "      <td>17341</td>\n",
       "      <td>[207, 207, 207, 207, 208, 207, 207, 203, 189, ...</td>\n",
       "    </tr>\n",
       "    <tr>\n",
       "      <th>88796</th>\n",
       "      <td>13247</td>\n",
       "      <td>[205, 204, 205, 205, 204, 204, 202, 188, 164, ...</td>\n",
       "    </tr>\n",
       "  </tbody>\n",
       "</table>\n",
       "<p>88797 rows × 2 columns</p>\n",
       "</div>"
      ],
      "text/plain": [
       "          TBP                                           readings\n",
       "0       51491  [198, 197, 197, 196, 197, 196, 197, 192, 176, ...\n",
       "1      168153  [195, 194, 194, 194, 194, 194, 192, 185, 172, ...\n",
       "2        2613  [197, 197, 198, 196, 196, 194, 194, 183, 165, ...\n",
       "3      111025  [195, 194, 194, 192, 194, 190, 185, 173, 162, ...\n",
       "4       10736  [197, 196, 197, 196, 197, 196, 193, 181, 164, ...\n",
       "...       ...                                                ...\n",
       "88792   84411  [204, 203, 205, 203, 205, 203, 203, 193, 177, ...\n",
       "88793    4188  [203, 204, 204, 203, 204, 202, 195, 167, 129, ...\n",
       "88794  456674  [208, 207, 207, 207, 207, 206, 198, 175, 146, ...\n",
       "88795   17341  [207, 207, 207, 207, 208, 207, 207, 203, 189, ...\n",
       "88796   13247  [205, 204, 205, 205, 204, 204, 202, 188, 164, ...\n",
       "\n",
       "[88797 rows x 2 columns]"
      ]
     },
     "execution_count": 3,
     "metadata": {},
     "output_type": "execute_result"
    }
   ],
   "source": [
    "data"
   ]
  },
  {
   "cell_type": "code",
   "execution_count": null,
   "id": "9acdbc35-a299-4899-a4e0-9bc3614a35b8",
   "metadata": {},
   "outputs": [],
   "source": []
  }
 ],
 "metadata": {
  "kernelspec": {
   "display_name": "Python 3 (ipykernel)",
   "language": "python",
   "name": "python3"
  },
  "language_info": {
   "codemirror_mode": {
    "name": "ipython",
    "version": 3
   },
   "file_extension": ".py",
   "mimetype": "text/x-python",
   "name": "python",
   "nbconvert_exporter": "python",
   "pygments_lexer": "ipython3",
   "version": "3.10.16"
  }
 },
 "nbformat": 4,
 "nbformat_minor": 5
}
