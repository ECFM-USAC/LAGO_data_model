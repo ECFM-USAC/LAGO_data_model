{
 "cells": [
  {
   "cell_type": "code",
   "execution_count": 4,
   "id": "9f2d0c3f-e308-4a48-b906-dbea42582198",
   "metadata": {},
   "outputs": [],
   "source": [
    "import pandas as pd\n",
    "import numpy as np\n",
    "import matplotlib.pyplot as plt\n",
    "import seaborn as sns"
   ]
  },
  {
   "cell_type": "code",
   "execution_count": 6,
   "id": "34b9ee48-49ab-4217-8cee-4c48b34b8681",
   "metadata": {},
   "outputs": [],
   "source": [
    "data = pd.read_parquet(\"../data/instrument_readings_202503311102.parquet\")"
   ]
  },
  {
   "cell_type": "code",
   "execution_count": null,
   "id": "1a213d68-557f-400a-b7a2-af5f731a6174",
   "metadata": {},
   "outputs": [],
   "source": []
  },
  {
   "cell_type": "code",
   "execution_count": 7,
   "id": "0f5dbe2a-6b98-4bce-89b3-4053941ae09b",
   "metadata": {},
   "outputs": [
    {
     "data": {
      "text/html": [
       "<div>\n",
       "<style scoped>\n",
       "    .dataframe tbody tr th:only-of-type {\n",
       "        vertical-align: middle;\n",
       "    }\n",
       "\n",
       "    .dataframe tbody tr th {\n",
       "        vertical-align: top;\n",
       "    }\n",
       "\n",
       "    .dataframe thead th {\n",
       "        text-align: right;\n",
       "    }\n",
       "</style>\n",
       "<table border=\"1\" class=\"dataframe\">\n",
       "  <thead>\n",
       "    <tr style=\"text-align: right;\">\n",
       "      <th></th>\n",
       "      <th>TBP</th>\n",
       "      <th>readings</th>\n",
       "    </tr>\n",
       "  </thead>\n",
       "  <tbody>\n",
       "    <tr>\n",
       "      <th>0</th>\n",
       "      <td>791007</td>\n",
       "      <td>[204.0, 204.0, 205.0, 204.0, 205.0, 202.0, 191...</td>\n",
       "    </tr>\n",
       "    <tr>\n",
       "      <th>1</th>\n",
       "      <td>659718</td>\n",
       "      <td>[206.0, 204.0, 206.0, 206.0, 206.0, 205.0, 202...</td>\n",
       "    </tr>\n",
       "    <tr>\n",
       "      <th>2</th>\n",
       "      <td>5444</td>\n",
       "      <td>[205.0, 204.0, 205.0, 204.0, 204.0, 198.0, 185...</td>\n",
       "    </tr>\n",
       "    <tr>\n",
       "      <th>3</th>\n",
       "      <td>2105790</td>\n",
       "      <td>[207.0, 207.0, 207.0, 207.0, 207.0, 206.0, 205...</td>\n",
       "    </tr>\n",
       "    <tr>\n",
       "      <th>4</th>\n",
       "      <td>63521</td>\n",
       "      <td>[208.0, 207.0, 208.0, 205.0, 204.0, 201.0, 193...</td>\n",
       "    </tr>\n",
       "    <tr>\n",
       "      <th>...</th>\n",
       "      <td>...</td>\n",
       "      <td>...</td>\n",
       "    </tr>\n",
       "    <tr>\n",
       "      <th>88424</th>\n",
       "      <td>4184</td>\n",
       "      <td>[210.0, 209.0, 211.0, 209.0, 211.0, 209.0, 208...</td>\n",
       "    </tr>\n",
       "    <tr>\n",
       "      <th>88425</th>\n",
       "      <td>3080</td>\n",
       "      <td>[208.0, 208.0, 209.0, 208.0, 209.0, 207.0, 200...</td>\n",
       "    </tr>\n",
       "    <tr>\n",
       "      <th>88426</th>\n",
       "      <td>217409</td>\n",
       "      <td>[208.0, 207.0, 208.0, 207.0, 207.0, 207.0, 207...</td>\n",
       "    </tr>\n",
       "    <tr>\n",
       "      <th>88427</th>\n",
       "      <td>1111959</td>\n",
       "      <td>[208.0, 208.0, 208.0, 206.0, 208.0, 206.0, 200...</td>\n",
       "    </tr>\n",
       "    <tr>\n",
       "      <th>88428</th>\n",
       "      <td>2627</td>\n",
       "      <td>[184.0, 181.0, 185.0, 189.0, 194.0, 194.0, 195...</td>\n",
       "    </tr>\n",
       "  </tbody>\n",
       "</table>\n",
       "<p>88429 rows × 2 columns</p>\n",
       "</div>"
      ],
      "text/plain": [
       "           TBP                                           readings\n",
       "0       791007  [204.0, 204.0, 205.0, 204.0, 205.0, 202.0, 191...\n",
       "1       659718  [206.0, 204.0, 206.0, 206.0, 206.0, 205.0, 202...\n",
       "2         5444  [205.0, 204.0, 205.0, 204.0, 204.0, 198.0, 185...\n",
       "3      2105790  [207.0, 207.0, 207.0, 207.0, 207.0, 206.0, 205...\n",
       "4        63521  [208.0, 207.0, 208.0, 205.0, 204.0, 201.0, 193...\n",
       "...        ...                                                ...\n",
       "88424     4184  [210.0, 209.0, 211.0, 209.0, 211.0, 209.0, 208...\n",
       "88425     3080  [208.0, 208.0, 209.0, 208.0, 209.0, 207.0, 200...\n",
       "88426   217409  [208.0, 207.0, 208.0, 207.0, 207.0, 207.0, 207...\n",
       "88427  1111959  [208.0, 208.0, 208.0, 206.0, 208.0, 206.0, 200...\n",
       "88428     2627  [184.0, 181.0, 185.0, 189.0, 194.0, 194.0, 195...\n",
       "\n",
       "[88429 rows x 2 columns]"
      ]
     },
     "execution_count": 7,
     "metadata": {},
     "output_type": "execute_result"
    }
   ],
   "source": [
    "data"
   ]
  },
  {
   "cell_type": "code",
   "execution_count": 8,
   "id": "2434cb78-50bf-4ec8-bf3d-ab8425778631",
   "metadata": {},
   "outputs": [],
   "source": [
    "def convert_to_integers(values):\n",
    "    return list(map(float, values))\n",
    "    #return np.array(list_of_strings, dtype=int)\n",
    "\n",
    "# Apply the function to the column\n",
    "data['readings'] = data['readings'].apply(convert_to_integers)"
   ]
  },
  {
   "cell_type": "code",
   "execution_count": null,
   "id": "575c3e46-b143-4499-9d2c-a7e5aea12f8f",
   "metadata": {},
   "outputs": [],
   "source": []
  },
  {
   "cell_type": "code",
   "execution_count": 9,
   "id": "d0d8401b-1860-428a-b4a9-f521dd60c37b",
   "metadata": {},
   "outputs": [],
   "source": [
    "readings = data[data['TBP'] == 25810]#['readings'].values"
   ]
  },
  {
   "cell_type": "code",
   "execution_count": 10,
   "id": "f8738a03-dbb6-4d8e-b6cc-7c68621b2ef1",
   "metadata": {},
   "outputs": [
    {
     "data": {
      "text/plain": [
       "array([211., 209., 210., ..., 210.,   0.,   0.], shape=(4998,))"
      ]
     },
     "execution_count": 10,
     "metadata": {},
     "output_type": "execute_result"
    }
   ],
   "source": [
    "readings['readings'].iloc[0]"
   ]
  },
  {
   "cell_type": "code",
   "execution_count": 11,
   "id": "59932b5e-da35-454f-a7d5-802cafd39a4e",
   "metadata": {},
   "outputs": [],
   "source": [
    "data.head(30).to_parquet(\"../data/test.parquet\", compression='snappy')"
   ]
  },
  {
   "cell_type": "code",
   "execution_count": null,
   "id": "4c3967e9-0358-4356-8490-6255a4fd7d25",
   "metadata": {},
   "outputs": [],
   "source": []
  },
  {
   "cell_type": "code",
   "execution_count": 7,
   "id": "9acdbc35-a299-4899-a4e0-9bc3614a35b8",
   "metadata": {},
   "outputs": [
    {
     "data": {
      "text/plain": [
       "<Axes: >"
      ]
     },
     "execution_count": 7,
     "metadata": {},
     "output_type": "execute_result"
    },
    {
     "data": {
      "image/png": "[encoded data removed]",
      "text/plain": [
       "<Figure size 640x480 with 1 Axes>"
      ]
     },
     "metadata": {},
     "output_type": "display_data"
    }
   ],
   "source": [
    "sns.lineplot(readings['readings'].iloc[0])"
   ]
  },
  {
   "cell_type": "code",
   "execution_count": null,
   "id": "8be52b62-4512-46b3-b3f9-93b7ab0c72c3",
   "metadata": {},
   "outputs": [],
   "source": []
  }
 ],
 "metadata": {
  "kernelspec": {
   "display_name": "Python 3 (ipykernel)",
   "language": "python",
   "name": "python3"
  },
  "language_info": {
   "codemirror_mode": {
    "name": "ipython",
    "version": 3
   },
   "file_extension": ".py",
   "mimetype": "text/x-python",
   "name": "python",
   "nbconvert_exporter": "python",
   "pygments_lexer": "ipython3",
   "version": "3.12.7"
  }
 },
 "nbformat": 4,
 "nbformat_minor": 5
}
