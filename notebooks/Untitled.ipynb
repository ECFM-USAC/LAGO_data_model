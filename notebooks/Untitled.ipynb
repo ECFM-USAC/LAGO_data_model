{
 "cells": [
  {
   "cell_type": "code",
   "execution_count": 1,
   "id": "b9bbf70d-9c07-4b77-bad5-d4a9f356071c",
   "metadata": {},
   "outputs": [],
   "source": [
    "import pandas as pd\n",
    "import pyarrow.parquet as pq\n",
    "import pyarrow as pa\n",
    "from tqdm import tqdm\n"
   ]
  },
  {
   "cell_type": "code",
   "execution_count": null,
   "id": "6542efa2-298b-465f-86c1-4d35aa0837ee",
   "metadata": {},
   "outputs": [],
   "source": []
  },
  {
   "cell_type": "code",
   "execution_count": 3,
   "id": "0b965a56-df22-4879-b4c8-8649ac07446b",
   "metadata": {},
   "outputs": [],
   "source": [
    "\n",
    "# Function to process the file in chunks and write to Parquet\n",
    "def process_file_to_parquet(file_path, batch_size):\n",
    "    data = {}  # Initialize the dictionary inside the function\n",
    "    current_column = None\n",
    "    batch_number = 0\n",
    "\n",
    "    with open(file_path, 'r') as file:\n",
    "        for line in tqdm(file, desc=\"Processing file\"):\n",
    "            line = line.strip()  # Remove any extra whitespace\n",
    "            if line.startswith(\"TBP:\"):\n",
    "                # If the line starts with \"TBP:\", it's a new column header\n",
    "                current_column = line\n",
    "                if current_column not in data:\n",
    "                    data[current_column] = []  # Initialize an empty list for this column\n",
    "            else:\n",
    "                # Otherwise, it's a value for the current column\n",
    "                if current_column is not None:\n",
    "                    data[current_column].append(float(line))  # Convert to float and add to the column\n",
    "\n",
    "            # Check if the batch size is reached\n",
    "            if len(data.get(current_column, [])) >= batch_size:\n",
    "                # Write the current batch to a Parquet file\n",
    "                write_batch_to_parquet(data, batch_number)\n",
    "                batch_number += 1\n",
    "                # Reset the data dictionary for the next batch\n",
    "                data = {key: [] for key in data.keys()}\n",
    "\n",
    "        # Write any remaining data to a Parquet file\n",
    "        if any(data.values()):\n",
    "            write_batch_to_parquet(data, batch_number)\n",
    "\n",
    "def write_batch_to_parquet(batch, batch_number):\n",
    "    # Ensure all columns have the same length\n",
    "    max_length = max(len(values) for values in batch.values())\n",
    "    for column in batch:\n",
    "        if len(batch[column]) < max_length:\n",
    "            batch[column] += [None] * (max_length - len(batch[column]))  # Pad with None\n",
    "\n",
    "    # Convert the batch to a PyArrow Table\n",
    "    table = pa.Table.from_pydict(batch)\n",
    "    # Save the batch to a Parquet file\n",
    "    pq.write_table(table, f'output_batch_{batch_number}.parquet')\n",
    "    print(f\"Batch {batch_number} saved to output_batch_{batch_number}.parquet\")\n"
   ]
  },
  {
   "cell_type": "code",
   "execution_count": 4,
   "id": "98413b8e-26d1-4c88-aa36-67d1e6ddb196",
   "metadata": {},
   "outputs": [],
   "source": [
    "file_path = '../data/20210518_142318.lag'\n",
    "\n",
    "# Initialize variables\n",
    "batch_size = 100000  # Adjust batch size based on memory availability\n"
   ]
  },
  {
   "cell_type": "code",
   "execution_count": null,
   "id": "45787c62-09c4-4b05-8b5c-6325256f5713",
   "metadata": {},
   "outputs": [
    {
     "name": "stderr",
     "output_type": "stream",
     "text": [
      "Processing file: 303898815it [02:54, 1908258.48it/s]"
     ]
    }
   ],
   "source": [
    "# Process the file and write to Parquet in batches\n",
    "process_file_to_parquet(file_path, batch_size)\n",
    "\n",
    "print(\"All batches processed and saved.\")"
   ]
  },
  {
   "cell_type": "code",
   "execution_count": null,
   "id": "a056c3d4-44d0-4f54-b67c-1b63d1763e26",
   "metadata": {},
   "outputs": [],
   "source": []
  }
 ],
 "metadata": {
  "kernelspec": {
   "display_name": "Python 3 (ipykernel)",
   "language": "python",
   "name": "python3"
  },
  "language_info": {
   "codemirror_mode": {
    "name": "ipython",
    "version": 3
   },
   "file_extension": ".py",
   "mimetype": "text/x-python",
   "name": "python",
   "nbconvert_exporter": "python",
   "pygments_lexer": "ipython3",
   "version": "3.10.16"
  }
 },
 "nbformat": 4,
 "nbformat_minor": 5
}
