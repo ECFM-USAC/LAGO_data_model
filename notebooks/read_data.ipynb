{
 "cells": [
  {
   "cell_type": "code",
   "execution_count": 12,
   "id": "b4e3959c-3a69-4eed-aae1-3e4094389809",
   "metadata": {},
   "outputs": [],
   "source": [
    "import numpy as np\n",
    "import pandas as pd\n",
    "import seaborn as sns"
   ]
  },
  {
   "cell_type": "code",
   "execution_count": 6,
   "id": "5b34b6bd-c5b4-4795-b658-8d0d55e258fd",
   "metadata": {},
   "outputs": [],
   "source": [
    "file_path = '../data/20210518_142318.lag'\n",
    "\n",
    "# Initialize variables\n",
    "data = {}\n",
    "current_column = None\n",
    "\n",
    "# Function to process the file in chunks\n",
    "def process_file(file_path, hard_stop=10):\n",
    "    reads = 0\n",
    "    with open(file_path, 'r') as file:\n",
    "        for line in tqdm(file, desc=\"Processing file\"):\n",
    "            line = line.strip()  # Remove any extra whitespace\n",
    "            if line.startswith(\"TBP:\"):\n",
    "                reads+=1\n",
    "                if reads>10:\n",
    "                    return data\n",
    "                # If the line starts with \"TBP:\", it's a new column header\n",
    "                current_column = line\n",
    "                if current_column not in data:\n",
    "                    data[current_column] = []  # Initialize an empty list for this column\n",
    "            else:\n",
    "                # Otherwise, it's a value for the current column\n",
    "                if current_column is not None:\n",
    "                    data[current_column].append(float(line))  # Convert to float and add to the column\n",
    "    return data\n"
   ]
  },
  {
   "cell_type": "code",
   "execution_count": 7,
   "id": "5a0120dd-7944-45ae-811c-2bf8783b890a",
   "metadata": {},
   "outputs": [],
   "source": [
    "# Process the file\n",
    "data = process_file(file_path)"
   ]
  },
  {
   "cell_type": "code",
   "execution_count": 8,
   "id": "9595ae73-648a-46a4-bf5d-a8e544e3af9c",
   "metadata": {},
   "outputs": [],
   "source": [
    "df = pd.DataFrame(data)"
   ]
  },
  {
   "cell_type": "code",
   "execution_count": 9,
   "id": "83bff5a3-acab-4d6d-adee-e1a5f44c9f46",
   "metadata": {},
   "outputs": [
    {
     "data": {
      "text/plain": [
       "(4998, 10)"
      ]
     },
     "execution_count": 9,
     "metadata": {},
     "output_type": "execute_result"
    }
   ],
   "source": [
    "df.shape"
   ]
  },
  {
   "cell_type": "code",
   "execution_count": 10,
   "id": "25e50c04-e491-4e43-9c66-84fefa449e6d",
   "metadata": {},
   "outputs": [
    {
     "data": {
      "text/html": [
       "<div>\n",
       "<style scoped>\n",
       "    .dataframe tbody tr th:only-of-type {\n",
       "        vertical-align: middle;\n",
       "    }\n",
       "\n",
       "    .dataframe tbody tr th {\n",
       "        vertical-align: top;\n",
       "    }\n",
       "\n",
       "    .dataframe thead th {\n",
       "        text-align: right;\n",
       "    }\n",
       "</style>\n",
       "<table border=\"1\" class=\"dataframe\">\n",
       "  <thead>\n",
       "    <tr style=\"text-align: right;\">\n",
       "      <th></th>\n",
       "      <th>TBP:51491</th>\n",
       "      <th>TBP:168153</th>\n",
       "      <th>TBP:2613</th>\n",
       "      <th>TBP:111025</th>\n",
       "      <th>TBP:10736</th>\n",
       "      <th>TBP:3511</th>\n",
       "      <th>TBP:122933</th>\n",
       "      <th>TBP:5029</th>\n",
       "      <th>TBP:5166</th>\n",
       "      <th>TBP:6927</th>\n",
       "    </tr>\n",
       "  </thead>\n",
       "  <tbody>\n",
       "    <tr>\n",
       "      <th>0</th>\n",
       "      <td>198.0</td>\n",
       "      <td>195.0</td>\n",
       "      <td>197.0</td>\n",
       "      <td>195.0</td>\n",
       "      <td>197.0</td>\n",
       "      <td>198.0</td>\n",
       "      <td>197.0</td>\n",
       "      <td>196.0</td>\n",
       "      <td>198.0</td>\n",
       "      <td>197.0</td>\n",
       "    </tr>\n",
       "    <tr>\n",
       "      <th>1</th>\n",
       "      <td>197.0</td>\n",
       "      <td>194.0</td>\n",
       "      <td>197.0</td>\n",
       "      <td>194.0</td>\n",
       "      <td>196.0</td>\n",
       "      <td>196.0</td>\n",
       "      <td>197.0</td>\n",
       "      <td>193.0</td>\n",
       "      <td>197.0</td>\n",
       "      <td>196.0</td>\n",
       "    </tr>\n",
       "    <tr>\n",
       "      <th>2</th>\n",
       "      <td>197.0</td>\n",
       "      <td>194.0</td>\n",
       "      <td>198.0</td>\n",
       "      <td>194.0</td>\n",
       "      <td>197.0</td>\n",
       "      <td>198.0</td>\n",
       "      <td>197.0</td>\n",
       "      <td>194.0</td>\n",
       "      <td>198.0</td>\n",
       "      <td>197.0</td>\n",
       "    </tr>\n",
       "    <tr>\n",
       "      <th>3</th>\n",
       "      <td>196.0</td>\n",
       "      <td>194.0</td>\n",
       "      <td>196.0</td>\n",
       "      <td>192.0</td>\n",
       "      <td>196.0</td>\n",
       "      <td>197.0</td>\n",
       "      <td>196.0</td>\n",
       "      <td>192.0</td>\n",
       "      <td>197.0</td>\n",
       "      <td>196.0</td>\n",
       "    </tr>\n",
       "    <tr>\n",
       "      <th>4</th>\n",
       "      <td>197.0</td>\n",
       "      <td>194.0</td>\n",
       "      <td>196.0</td>\n",
       "      <td>194.0</td>\n",
       "      <td>197.0</td>\n",
       "      <td>197.0</td>\n",
       "      <td>197.0</td>\n",
       "      <td>194.0</td>\n",
       "      <td>197.0</td>\n",
       "      <td>197.0</td>\n",
       "    </tr>\n",
       "    <tr>\n",
       "      <th>...</th>\n",
       "      <td>...</td>\n",
       "      <td>...</td>\n",
       "      <td>...</td>\n",
       "      <td>...</td>\n",
       "      <td>...</td>\n",
       "      <td>...</td>\n",
       "      <td>...</td>\n",
       "      <td>...</td>\n",
       "      <td>...</td>\n",
       "      <td>...</td>\n",
       "    </tr>\n",
       "    <tr>\n",
       "      <th>4993</th>\n",
       "      <td>193.0</td>\n",
       "      <td>198.0</td>\n",
       "      <td>193.0</td>\n",
       "      <td>196.0</td>\n",
       "      <td>196.0</td>\n",
       "      <td>197.0</td>\n",
       "      <td>197.0</td>\n",
       "      <td>195.0</td>\n",
       "      <td>187.0</td>\n",
       "      <td>211.0</td>\n",
       "    </tr>\n",
       "    <tr>\n",
       "      <th>4994</th>\n",
       "      <td>197.0</td>\n",
       "      <td>192.0</td>\n",
       "      <td>197.0</td>\n",
       "      <td>199.0</td>\n",
       "      <td>197.0</td>\n",
       "      <td>196.0</td>\n",
       "      <td>198.0</td>\n",
       "      <td>198.0</td>\n",
       "      <td>199.0</td>\n",
       "      <td>197.0</td>\n",
       "    </tr>\n",
       "    <tr>\n",
       "      <th>4995</th>\n",
       "      <td>197.0</td>\n",
       "      <td>191.0</td>\n",
       "      <td>196.0</td>\n",
       "      <td>198.0</td>\n",
       "      <td>196.0</td>\n",
       "      <td>195.0</td>\n",
       "      <td>198.0</td>\n",
       "      <td>197.0</td>\n",
       "      <td>199.0</td>\n",
       "      <td>197.0</td>\n",
       "    </tr>\n",
       "    <tr>\n",
       "      <th>4996</th>\n",
       "      <td>0.0</td>\n",
       "      <td>0.0</td>\n",
       "      <td>0.0</td>\n",
       "      <td>0.0</td>\n",
       "      <td>0.0</td>\n",
       "      <td>0.0</td>\n",
       "      <td>0.0</td>\n",
       "      <td>0.0</td>\n",
       "      <td>0.0</td>\n",
       "      <td>0.0</td>\n",
       "    </tr>\n",
       "    <tr>\n",
       "      <th>4997</th>\n",
       "      <td>0.0</td>\n",
       "      <td>0.0</td>\n",
       "      <td>0.0</td>\n",
       "      <td>0.0</td>\n",
       "      <td>0.0</td>\n",
       "      <td>0.0</td>\n",
       "      <td>0.0</td>\n",
       "      <td>0.0</td>\n",
       "      <td>0.0</td>\n",
       "      <td>0.0</td>\n",
       "    </tr>\n",
       "  </tbody>\n",
       "</table>\n",
       "<p>4998 rows × 10 columns</p>\n",
       "</div>"
      ],
      "text/plain": [
       "      TBP:51491  TBP:168153  TBP:2613  TBP:111025  TBP:10736  TBP:3511  \\\n",
       "0         198.0       195.0     197.0       195.0      197.0     198.0   \n",
       "1         197.0       194.0     197.0       194.0      196.0     196.0   \n",
       "2         197.0       194.0     198.0       194.0      197.0     198.0   \n",
       "3         196.0       194.0     196.0       192.0      196.0     197.0   \n",
       "4         197.0       194.0     196.0       194.0      197.0     197.0   \n",
       "...         ...         ...       ...         ...        ...       ...   \n",
       "4993      193.0       198.0     193.0       196.0      196.0     197.0   \n",
       "4994      197.0       192.0     197.0       199.0      197.0     196.0   \n",
       "4995      197.0       191.0     196.0       198.0      196.0     195.0   \n",
       "4996        0.0         0.0       0.0         0.0        0.0       0.0   \n",
       "4997        0.0         0.0       0.0         0.0        0.0       0.0   \n",
       "\n",
       "      TBP:122933  TBP:5029  TBP:5166  TBP:6927  \n",
       "0          197.0     196.0     198.0     197.0  \n",
       "1          197.0     193.0     197.0     196.0  \n",
       "2          197.0     194.0     198.0     197.0  \n",
       "3          196.0     192.0     197.0     196.0  \n",
       "4          197.0     194.0     197.0     197.0  \n",
       "...          ...       ...       ...       ...  \n",
       "4993       197.0     195.0     187.0     211.0  \n",
       "4994       198.0     198.0     199.0     197.0  \n",
       "4995       198.0     197.0     199.0     197.0  \n",
       "4996         0.0       0.0       0.0       0.0  \n",
       "4997         0.0       0.0       0.0       0.0  \n",
       "\n",
       "[4998 rows x 10 columns]"
      ]
     },
     "execution_count": 10,
     "metadata": {},
     "output_type": "execute_result"
    }
   ],
   "source": [
    "df"
   ]
  },
  {
   "cell_type": "code",
   "execution_count": 13,
   "id": "c7e0923e-f348-4658-a7a8-bab3ef29fa78",
   "metadata": {},
   "outputs": [
    {
     "data": {
      "text/plain": [
       "<Axes: ylabel='TBP:51491'>"
      ]
     },
     "execution_count": 13,
     "metadata": {},
     "output_type": "execute_result"
    },
    {
     "data": {
      "image/png": "[encoded data removed]",
      "text/plain": [
       "<Figure size 640x480 with 1 Axes>"
      ]
     },
     "metadata": {},
     "output_type": "display_data"
    }
   ],
   "source": [
    "sns.lineplot(df['TBP:51491'])"
   ]
  },
  {
   "cell_type": "code",
   "execution_count": null,
   "id": "9d9ac690-798a-47f2-a141-e38a8cd625cf",
   "metadata": {},
   "outputs": [],
   "source": []
  },
  {
   "cell_type": "code",
   "execution_count": null,
   "id": "bb659ee9-097e-42fe-b830-c406281f12f1",
   "metadata": {},
   "outputs": [],
   "source": []
  }
 ],
 "metadata": {
  "kernelspec": {
   "display_name": "Python 3 (ipykernel)",
   "language": "python",
   "name": "python3"
  },
  "language_info": {
   "codemirror_mode": {
    "name": "ipython",
    "version": 3
   },
   "file_extension": ".py",
   "mimetype": "text/x-python",
   "name": "python",
   "nbconvert_exporter": "python",
   "pygments_lexer": "ipython3",
   "version": "3.10.16"
  }
 },
 "nbformat": 4,
 "nbformat_minor": 5
}
